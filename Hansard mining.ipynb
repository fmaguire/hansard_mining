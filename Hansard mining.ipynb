{
 "cells": [
  {
   "cell_type": "markdown",
   "metadata": {},
   "source": [
    "# Data mining the hansard\n",
    "\n",
    "Estimating contribution by party"
   ]
  },
  {
   "cell_type": "markdown",
   "metadata": {},
   "source": [
    "## Getting debate text\n",
    "- mine hansard from theyworkforyou scrape for June 2015 onwards using lxml"
   ]
  },
  {
   "cell_type": "code",
   "execution_count": 1,
   "metadata": {
    "collapsed": false
   },
   "outputs": [],
   "source": [
    "import sys\n",
    "#sys.path.append('/home/fin/Documents/datamining_hansard/dh/lib/python3.4/site-packages/')\n",
    "\n",
    "import lxml\n",
    "import lxml.html\n",
    "import requests\n",
    "import os\n",
    "import csv"
   ]
  },
  {
   "cell_type": "code",
   "execution_count": 2,
   "metadata": {
    "collapsed": false
   },
   "outputs": [],
   "source": [
    "page = requests.get(\"http://www.theyworkforyou.com/pwdata/scrapedxml/debates/\")\n",
    "tree = lxml.html.fromstring(page.text)\n",
    "\n",
    "debates = tree.xpath('//a/text()')\n",
    "debates2015 = [x for x in debates if x.startswith('debates2015')]\n",
    "new_parliament = [x for x in debates2015 if int(x.split('-')[1]) > 4]"
   ]
  },
  {
   "cell_type": "code",
   "execution_count": 4,
   "metadata": {
    "collapsed": false
   },
   "outputs": [],
   "source": [
    "def download_file(url, folder):\n",
    "    local_filename = url.split('/')[-1]\n",
    "    if not os.path.exists(os.path.join(folder, local_filename)):\n",
    "        r = requests.get(url, stream=True)\n",
    "        with open(os.path.join(folder, local_filename), 'wb') as f:\n",
    "            for chunk in r.iter_content(chunk_size=1024): \n",
    "                if chunk: # filter out keep-alive new chunks\n",
    "                    f.write(chunk)\n",
    "                    f.flush()\n",
    "        return local_filename\n",
    "\n",
    "for xml in new_parliament:\n",
    "    download_file(\"http://www.theyworkforyou.com/pwdata/scrapedxml/debates/\"+xml,\n",
    "                 \"data\")"
   ]
  },
  {
   "cell_type": "markdown",
   "metadata": {},
   "source": [
    "## Parsing xml of debates\n",
    "- XML acquired now to start parsing it using lxml"
   ]
  },
  {
   "cell_type": "code",
   "execution_count": 5,
   "metadata": {
    "collapsed": false
   },
   "outputs": [],
   "source": [
    "def get_speaker_and_text(xml):\n",
    "    \"\"\"\n",
    "    For a given xml file return a list of tuples\n",
    "    of speeches and their speakers\n",
    "    \"\"\"\n",
    "    with open(xml, 'rb') as fh:\n",
    "        parsed_xml = fh.read()\n",
    "    \n",
    "    data = []\n",
    "    root = lxml.etree.fromstring(parsed_xml)\n",
    "    speeches = root.xpath('speech') \n",
    "    for speech in speeches:\n",
    "        #if speech.get('nospeaker') is not None:\n",
    "        speech_list = [x.text for x in speech.getchildren() if x.text is not None]\n",
    "        \n",
    "        speech_list = \" \".join(speech_list)\n",
    "        \n",
    "        speaker =  speech.get('speakername')\n",
    "        data.append((speaker, speech_list))\n",
    "    \n",
    "    return data\n"
   ]
  },
  {
   "cell_type": "markdown",
   "metadata": {},
   "source": [
    "## Get MP name and party affiliation\n",
    "\n",
    "- Get a dict of MP names: party affiliation"
   ]
  },
  {
   "cell_type": "code",
   "execution_count": 6,
   "metadata": {
    "collapsed": false
   },
   "outputs": [],
   "source": [
    "with open('data/mp_data.csv',  encoding = \"ISO-8859-1\") as fh:\n",
    "    dat = [x for x in csv.reader(fh)]\n",
    "\n",
    "party_dict = {}\n",
    "for mp in dat[1:]:\n",
    "    name = mp[1] + ' ' + mp[2]\n",
    "    party = mp[3]\n",
    "    party_dict.update({name: party})\n",
    "\n",
    "#add the speakers\n",
    "party_dict.update({'Mr Speaker': 'Speaker'})\n",
    "party_dict.update({'Mr Deputy Speaker': 'Speaker'})\n",
    "party_dict.update({'Mr Speaker-Elect': 'Speaker'})\n",
    "party_dict.update({'The Chairman': 'Speaker'})\n",
    "party_dict.update({'The Second Deputy Chairman': 'Speaker'})\n",
    "\n",
    "#add Stephen Philip Rotheram for some reason\n",
    "party_dict.update({'Stephen Philip Rotheram': 'Labour'})\n",
    "\n",
    "#add multiple speakers\n",
    "party_dict.update({'My Lords and Members of the House of Commons':'Multiple'})\n",
    "party_dict.update({'Members of the House of Commons':'Multiple'})\n",
    "party_dict.update({'Hon. Members':'Multiple'})\n",
    "party_dict.update({'Several hon. Members':'Multiple'})\n",
    "\n",
    "#add none\n",
    "party_dict.update({None: 'None'})\n",
    "\n",
    "# parties and MP number\n",
    "parties = [('UKIP', 1), \n",
    "           ('Sinn Féin', 4),  \n",
    "           ('Conservative', 330),\n",
    "           ('Labour', 232),  \n",
    "           ('Liberal Democrat', 8),\n",
    "           ('Independent', 1), \n",
    "           ('UUP', 2), \n",
    "           ('DUP', 8), \n",
    "           ('Scottish National Party', 56),\n",
    "           ('Green', 1),\n",
    "           ('Social Democratic and Labour Party', 3), \n",
    "           ('Plaid Cymru', 3)]"
   ]
  },
  {
   "cell_type": "markdown",
   "metadata": {},
   "source": [
    "## Parsin' time\n",
    "\n",
    "- Time to parse the shit out of this parliament"
   ]
  },
  {
   "cell_type": "code",
   "execution_count": null,
   "metadata": {
    "collapsed": false
   },
   "outputs": [],
   "source": [
    "import glob\n",
    "\n",
    "named_text = []\n",
    "for xml in glob.glob(os.path.join(\"data\",\"*.xml\")):\n",
    "    named_text = named_text + get_speaker_and_text(xml)"
   ]
  },
  {
   "cell_type": "code",
   "execution_count": null,
   "metadata": {
    "collapsed": false
   },
   "outputs": [],
   "source": [
    "# get complete text for each party\n",
    "party_talk = {}\n",
    "for party in set(party_dict.values()):\n",
    "    party_talk.update({party:''})\n",
    "    \n",
    "for speech in named_text:\n",
    "    if speech[0] == 'Labour/Co-operative':\n",
    "        speech[0] = 'Labour'\n",
    "    if speech[0] in party_dict.keys():\n",
    "        party = party_dict[speech[0]]\n",
    "        party_talk[party] = party_talk[party] + speech[1] \n",
    "    else:\n",
    "        print(\"Speaker not identified:\", speech[0])"
   ]
  },
  {
   "cell_type": "markdown",
   "metadata": {},
   "source": [
    "### Get complete text and party for each MP \n",
    "Plot of total words spoken per MP, generate a dict of MPName: (party, words spoken)\n",
    "\n",
    "- Combine Labour + labour co-op\n",
    "- Ignore None, Multiple, and Speaker"
   ]
  },
  {
   "cell_type": "code",
   "execution_count": null,
   "metadata": {
    "collapsed": false
   },
   "outputs": [],
   "source": [
    "words_spoken_by_mp = {}\n",
    "\n",
    "for speaker, text in named_text:\n",
    "        party = party_dict[speaker]\n",
    "        # remove cruft \"parties\"\n",
    "        if party == 'None' or party == 'Multiple' or party == 'Speaker':\n",
    "            continue\n",
    "        # collapse labour co-op and labour down to one party\n",
    "        if party == 'Labour/Co-operative':\n",
    "            party = 'Labour'\n",
    "        \n",
    "        if speaker in words_spoken_by_mp.keys():\n",
    "            words_spoken_by_mp[speaker] = (party, words_spoken_by_mp[speaker][1] + text)\n",
    "        else:\n",
    "            words_spoken_by_mp.update({speaker: (party, text)})\n"
   ]
  },
  {
   "cell_type": "markdown",
   "metadata": {},
   "source": [
    "### Get total spoken per MP\n",
    "\n",
    "Get add party averages"
   ]
  },
  {
   "cell_type": "code",
   "execution_count": null,
   "metadata": {
    "collapsed": false
   },
   "outputs": [],
   "source": [
    "total_speech = []\n",
    "for speaker, party_text in words_spoken_by_mp.items():\n",
    "    total_speech.append((speaker, party_text[0], len(party_text[1])))"
   ]
  },
  {
   "cell_type": "code",
   "execution_count": null,
   "metadata": {
    "collapsed": false
   },
   "outputs": [],
   "source": [
    "for party, mps in parties:\n",
    "    print(party, len(party_talk[party])/mps)"
   ]
  }
 ],
 "metadata": {
  "kernelspec": {
   "display_name": "Python 3",
   "language": "python",
   "name": "python3"
  },
  "language_info": {
   "codemirror_mode": {
    "name": "ipython",
    "version": 3
   },
   "file_extension": ".py",
   "mimetype": "text/x-python",
   "name": "python",
   "nbconvert_exporter": "python",
   "pygments_lexer": "ipython3",
   "version": "3.5.1"
  }
 },
 "nbformat": 4,
 "nbformat_minor": 0
}
